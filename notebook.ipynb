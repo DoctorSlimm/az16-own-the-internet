{
 "cells": [
  {
   "cell_type": "code",
   "execution_count": 1,
   "metadata": {},
   "outputs": [
    {
     "name": "stdout",
     "output_type": "stream",
     "text": [
      "Loaded 10 environment variables from .env\n"
     ]
    }
   ],
   "source": [
    "### Create logger and load environment variables\n",
    "\n",
    "from tools.logger import _logger\n",
    "\n",
    "logger = _logger('my_named_logger')"
   ]
  },
  {
   "cell_type": "code",
   "execution_count": 2,
   "metadata": {},
   "outputs": [
    {
     "name": "stderr",
     "output_type": "stream",
     "text": [
      "\u001b[32m[INFO:my_named_logger:] hello world\u001b[0m\n"
     ]
    }
   ],
   "source": [
    "logger.info('hello world')"
   ]
  },
  {
   "cell_type": "code",
   "execution_count": 3,
   "metadata": {},
   "outputs": [],
   "source": [
    "### Utils"
   ]
  },
  {
   "cell_type": "code",
   "execution_count": 4,
   "metadata": {},
   "outputs": [
    {
     "name": "stderr",
     "output_type": "stream",
     "text": [
      "\u001b[32m[INFO:my_named_logger:] GPT3: As an AI language model, I don't have emotions, but I'm always ready to assist you with any questions or tasks you may have. How can I help you today?\u001b[0m\n",
      "\u001b[32m[INFO:my_named_logger:] GPT4: As an AI language model, I don't have emotions, but I'm always ready to assist you with any questions or tasks you may have. How can I help you today?\u001b[0m\n"
     ]
    }
   ],
   "source": [
    "## llm\n",
    "# instance of LangchainChatLLM\n",
    "# works with most langchain chains / retrivers and all other langchain module combos\n",
    "\n",
    "from tools.llm import gpt3, gpt4\n",
    "\n",
    "\n",
    "completion = gpt3.invoke('How do you do buddy?').content\n",
    "\n",
    "logger.info('GPT3: ' + completion)\n",
    "\n",
    "\n",
    "completion = gpt3.invoke('How do you do buddy?').content\n",
    "\n",
    "logger.info('GPT4: ' + completion)"
   ]
  },
  {
   "cell_type": "code",
   "execution_count": 5,
   "metadata": {},
   "outputs": [
    {
     "name": "stderr",
     "output_type": "stream",
     "text": [
      "\u001b[32m[INFO:url_document_loader:] scrapingbee client params: {'render_js': 'True'}\u001b[0m\n",
      "\u001b[32m[INFO:my_named_logger:] Document.metadata: {'url': 'https://hackernews.com', 'title': 'Hacker News', 'description': None}\u001b[0m\n"
     ]
    }
   ],
   "source": [
    "## url loader\n",
    "\n",
    "from tools.scrapingbee_tool import load_page_for_url\n",
    "\n",
    "\n",
    "document = load_page_for_url('https://hackernews.com')\n",
    "\n",
    "logger.info('Document.metadata: ' + str(document.metadata))"
   ]
  },
  {
   "cell_type": "code",
   "execution_count": 6,
   "metadata": {},
   "outputs": [
    {
     "name": "stderr",
     "output_type": "stream",
     "text": [
      "\u001b[32m[INFO:my_named_logger:] Document.page_content: | |  | **[Hacker News](news)** [new](newest) \\| [past](front) \\| [comments](newcomments) \\| <ask> \\| <show> \\| <jobs> \\| <submit> | [login](login?goto=news) | | --- | --- | --- | |\n",
      "| --- | --- | --- | --- |\n",
      "| | 1\\. |  | [It's Time to Stop Taking Sam Altman at His Word](https://www.theatlantic.com/technology/archive/2024/10/sam-altman-mythmaking/680152/) ([theatlantic.com](from?site=theatlantic.com)) | | --- | --- | --- | |  | | 79 points by [redwoolf](user?id=redwoolf) [1 hour ago](item?id=41749371)  \\| [hide](hide?id=41749371&goto=news) \\| [44 comments](item?id=41749371) | | | 2\\. |  | [Noise](https://noise.jake.fun/) ([jake.fun](from?site=jake.fun)) | |  | | 322 points by [amadeuspagel](user?id=amadeuspagel) [9 hours ago](item?id=41715883)  \\| [hide](hide?id=41715883&goto=news) \\| [47 comments](item?id=41715883) | | | 3\\. |  | [Linux from Scratch](https://www.linuxfromscratch.org/index.html) ([linuxfromscratch.org](from?site=linuxfromscratch.org)) | |  | | 127 points by [udev4096](user?id=udev4096) [8 hours ago](item?id=41747966)  \\| [hide](hide?id=41747966&goto=news) \\| [45 comments](item?id=41747966) | | | 4\\. |  | [The Globus INK: a mechanical navigation computer for Soviet spaceflight](https://www.righto.com/2023/01/inside-globus-ink-mechanical-navigation.html) ([righto.com](from?site=righto.com)) | |  | | 4 points by [dangle1](user?id=dangle1) [37 minutes ago](item?id=41749612)  \\| [hide](hide?id=41749612&goto=news) \\| [discuss](item?id=41749612) | | | 5\\. |  | [Getting my daily news from a dot matrix printer](https://aschmelyun.com/blog/getting-my-daily-news-from-a-dot-matrix-printer/) ([aschmelyun.com](from?site=aschmelyun.com)) | |  | | 811 points by [chrisdemarco](user?id=chrisdemarco) [22 hours ago](item?id=41742210)  \\| [hide](hide?id=41742210&goto=news) \\| [216 comments](item?id=41742210) | | | 6\\. |  | [Meta Movie Gen](https://ai.meta.com/research/movie-gen/?_fb_noscript=1) ([meta.com](from?site=meta.com)) | |  | | 974 points by [brianjking](user?id=brianjking) [1 day ago](item?id=41740965)  \\| [hide](hide?id=41740965&goto=news) \\| [886 comments](item?id=41740965) | | | 7\\. |  | [炊紙(kashikishi) is a text editor that utilizes GPU to edit text in a 3D space](https://github.com/mitoma/kashiki2) ([github.com/mitoma](from?site=github.com/mitoma)) | |  | | 218 points by [hiroshi3110](user?id=hiroshi3110) [15 hours ago](item?id=41736429)  \\| [hide](hide?id=41736429&goto=news) \\| [85 comments](item?id=41736429) | | | 8\\. |  | [Decoding the Language of Othering by Russia\\-Ukraine War Bloggers](https://arxiv.org/abs/2409.13064) ([arxiv.org](from?site=arxiv.org)) | |  | | 9 points by [PaulHoule](user?id=PaulHoule) [1 hour ago](item?id=41749470)  \\| [hide](hide?id=41749470&goto=news) \\| [1 comment](item?id=41749470) | | | 9\\. |  | [Mitmproxy 11: Full HTTP/3 Support](https://mitmproxy.org/posts/releases/mitmproxy-11/) ([mitmproxy.org](from?site=mitmproxy.org)) | |  | | 262 points by [mhils](user?id=mhils) [19 hours ago](item?id=41744434)  \\| [hide](hide?id=41744434&goto=news) \\| [43 comments](item?id=41744434) | | | 10\\. |  | [PropelAuth (YC W22\\) is hiring engineers who love to write](https://www.ycombinator.com/companies/propelauth/jobs/pLMnFlZ-technical-content-creator) ([ycombinator.com](from?site=ycombinator.com)) | |  | | [1 hour ago](item?id=41749301) \\| [hide](hide?id=41749301&goto=news) | | | 11\\. |  | [Rune: A Local Music Player Reviving Zune's Classic Aesthetic with Modern Tech](https://github.com/Losses/rune) ([github.com/losses](from?site=github.com/losses)) | |  | | 70 points by [march\\_happy](user?id=march_happy) [8 hours ago](item?id=41747881)  \\| [hide](hide?id=41747881&goto=news) \\| [32 comments](item?id=41747881) | | | 12\\. |  | [LLMs, Theory of Mind, and Cheryl's Birthday](https://github.com/norvig/pytudes/blob/main/ipynb/CherylMind.ipynb) ([github.com/norvig](from?site=github.com/norvig)) | |  | | 173 points by [stereoabuse](user?id=stereoabuse) [16 hours ago](item?id=41745788)  \\| [hide](hide?id=41745788&goto=news) \\| [83 comments](item?id=41745788) | | | 13\\. |  | [How to Renovate Your Home for a Billion Children](https://www.wired.com/story/inside-tiktok-unhinged-home-remodeling-videos/) ([wired.com](from?site=wired.com)) | |  | | 8 points by [laurex](user?id=laurex) [4 hours ago](item?id=41725239)  \\| [hide](hide?id=41725239&goto=news) \\| [4 comments](item?id=41725239) | | | 14\\. |  | [Show HN: One – A new React framework unifying web, native and local\\-first](https://onestack.dev) ([onestack.dev](from?site=onestack.dev)) | |  | | 451 points by [nwienert](user?id=nwienert) [22 hours ago](item?id=41742278)  \\| [hide](hide?id=41742278&goto=news) \\| [195 comments](item?id=41742278) | | | 15\\. |  | [Pythagora: Auto\\-Generate Node.js Tests Using LLMs, No Coding Required](https://github.com/Pythagora-io/pythagora) ([github.com/pythagora\\-io](from?site=github.com/pythagora-io)) | |  | | 4 points by [OptiCore](user?id=OptiCore) [3 hours ago](item?id=41748941)  \\| [hide](hide?id=41748941&goto=news) \\| [2 comments](item?id=41748941) | | | 16\\. |  | [How were 70s versions of games like Pong built without a programmable computer?](https://retrocomputing.stackexchange.com/questions/30698/how-were-the-70s-versions-of-pong-and-similar-games-implemented-without-a-progra) ([retrocomputing.stackexchange.com](from?site=retrocomputing.stackexchange.com)) | |  | | 186 points by [SeenNotHeard](user?id=SeenNotHeard) [17 hours ago](item?id=41745032)  \\| [hide](hide?id=41745032&goto=news) \\| [85 comments](item?id=41745032) | | | 17\\. |  | [The First Transistor Radio](https://spectrum.ieee.org/transistor-radio-invented) ([ieee.org](from?site=ieee.org)) | |  | | 10 points by [samizdis](user?id=samizdis) [5 hours ago](item?id=41748497)  \\| [hide](hide?id=41748497&goto=news) \\| [1 comment](item?id=41748497) | | | 18\\. |  | [Insider trader had all the answers](https://www.bloomberg.com/opinion/articles/2024-10-01/insider-trader-had-all-the-answers) ([bloomberg.com](from?site=bloomberg.com)) | |  | | 110 points by [ioblomov](user?id=ioblomov) [16 hours ago](item?id=41713476)  \\| [hide](hide?id=41713476&goto=news) \\| [129 comments](item?id=41713476) | | | 19\\. |  | [Show HN: Open source framework OpenAI uses for Advanced Voice](https://github.com/livekit/agents) ([github.com/livekit](from?site=github.com/livekit)) | |  | | 186 points by [russ](user?id=russ) [20 hours ago](item?id=41743327)  \\| [hide](hide?id=41743327&goto=news) \\| [36 comments](item?id=41743327) | | | 20\\. |  | [12 Months of Mandarin](https://isaak.net/mandarin/) ([isaak.net](from?site=isaak.net)) | |  | | 418 points by [misiti3780](user?id=misiti3780) [22 hours ago](item?id=41742432)  \\| [hide](hide?id=41742432&goto=news) \\| [233 comments](item?id=41742432) | | | 21\\. |  | [CERN trains AI models to revolutionize cancer treatment](https://english.elpais.com/health/2024-10-05/cern-trains-ai-models-to-revolutionize-cancer-treatment.html) ([elpais.com](from?site=elpais.com)) | |  | | 8 points by [geox](user?id=geox) [1 hour ago](item?id=41749346)  \\| [hide](hide?id=41749346&goto=news) \\| [8 comments](item?id=41749346) | | | 22\\. |  | [Show HN: Chebyshev approximation calculator](https://stuffmatic.com/chebyshev/) ([stuffmatic.com](from?site=stuffmatic.com)) | |  | | 257 points by [stuffmatic](user?id=stuffmatic) [1 day ago](item?id=41740568)  \\| [hide](hide?id=41740568&goto=news) \\| [42 comments](item?id=41740568) | | | 23\\. |  | [Exploiting DRAM bitflips to get a root shell](https://bsky.app/profile/retr0.id/post/3l5qg6z36sp2a) ([bsky.app](from?site=bsky.app)) | |  | | 43 points by [goranmoomin](user?id=goranmoomin) [3 hours ago](item?id=41748861)  \\| [hide](hide?id=41748861&goto=news) \\| [4 comments](item?id=41748861) | | | 24\\. |  | [Show HN: FFmpeg\\-over\\-IP – Connect to remote FFmpeg servers](https://github.com/steelbrain/ffmpeg-over-ip) ([github.com/steelbrain](from?site=github.com/steelbrain)) | |  | | 127 points by [steelbrain](user?id=steelbrain) [20 hours ago](item?id=41743780)  \\| [hide](hide?id=41743780&goto=news) \\| [61 comments](item?id=41743780) | | | 25\\. |  | [The Soldiers' Philosopher (2014\\)](https://www.philosophyforlife.org/blog/nancy-sherman-the-soldiers-philosopher) ([philosophyforlife.org](from?site=philosophyforlife.org)) | |  | | 62 points by [aways](user?id=aways) [15 hours ago](item?id=41715767)  \\| [hide](hide?id=41715767&goto=news) \\| [33 comments](item?id=41715767) | | | 26\\. |  | [The Recovery of Case (2016\\)](https://inference-review.com/article/the-recovery-of-case) ([inference\\-review.com](from?site=inference-review.com)) | |  | | 4 points by [flimp](user?id=flimp) [5 hours ago](item?id=41715822)  \\| [hide](hide?id=41715822&goto=news) \\| [discuss](item?id=41715822) | | | 27\\. |  | [Show HN: Detect if an audio file was generated by NotebookLM](https://github.com/ListenNotes/notebooklm-detector) ([github.com/listennotes](from?site=github.com/listennotes)) | |  | | 62 points by [wenbin](user?id=wenbin) [12 hours ago](item?id=41746934)  \\| [hide](hide?id=41746934&goto=news) \\| [23 comments](item?id=41746934) | | | 28\\. |  | [The other British invasion: how UK lingo conquered the US](https://www.theguardian.com/science/2024/sep/26/other-british-invasion-how-uk-language-conquered-the-us) ([theguardian.com](from?site=theguardian.com)) | |  | | 105 points by [n1b0m](user?id=n1b0m) [18 hours ago](item?id=41715733)  \\| [hide](hide?id=41715733&goto=news) \\| [218 comments](item?id=41715733) | | | 29\\. |  | [Computer scientists combine two 'beautiful' proof methods](https://www.quantamagazine.org/computer-scientists-combine-two-beautiful-proof-methods-20241004/) ([quantamagazine.org](from?site=quantamagazine.org)) | |  | | 102 points by [tambourine\\_man](user?id=tambourine_man) [1 day ago](item?id=41741358)  \\| [hide](hide?id=41741358&goto=news) \\| [28 comments](item?id=41741358) | | | 30\\. |  | [Tiered support is an anti\\-pattern (2013\\)](https://peter.gillardmoss.me.uk/blog/2013/06/24/tiered-support-is-an-anti-pattern/) ([gillardmoss.me.uk](from?site=gillardmoss.me.uk)) | |  | | 52 points by [mooreds](user?id=mooreds) [10 hours ago](item?id=41716661)  \\| [hide](hide?id=41716661&goto=news) \\| [48 comments](item?id=41716661) | | | |  | | [More](?p=2) | |\n",
      "| |  | | --- |   [Guidelines](newsguidelines.html) \\| [FAQ](newsfaq.html) \\| [Lists](lists) \\| [API](https://github.com/HackerNews/API) \\| [Security](security.html) \\| [Legal](https://www.ycombinator.com/legal/) \\| [Apply to YC](https://www.ycombinator.com/apply/) \\| [Contact](mailto:hn@ycombinator.com) Search: |\u001b[0m\n"
     ]
    }
   ],
   "source": [
    "logger.info('Document.page_content: ' + str(document.page_content))"
   ]
  },
  {
   "cell_type": "code",
   "execution_count": 7,
   "metadata": {},
   "outputs": [
    {
     "name": "stdout",
     "output_type": "stream",
     "text": [
      "page_content='W3Schools offers a comprehensive and interactive<b> Python tutorial</b> with examples, exercises, quizzes, and references. You can also download Python, get certified, and access My Learning program.' metadata={'snippet': 'W3Schools offers a comprehensive and interactive<b> Python tutorial</b> with examples, exercises, quizzes, and references. You can also download Python, get certified, and access My Learning program.', 'title': 'Python Tutorial - W3Schools', 'link': 'https://www.w3schools.com/python/'}\n",
      "page_content='Learn<b> Python</b> for data science with DataCamp&#39;s online<b> courses,</b> videos and coding challenges. Join over a million learners and get certified, save 25% off your subscription and access more<b> tutorials.</b>' metadata={'snippet': 'Learn<b> Python</b> for data science with DataCamp&#39;s online<b> courses,</b> videos and coding challenges. Join over a million learners and get certified, save 25% off your subscription and access more<b> tutorials.</b>', 'title': 'Learn Python - Free Interactive Python Tutorial', 'link': 'https://www.learnpython.org/'}\n",
      "page_content='Real<b> Python</b> offers in-depth articles, step-by-step video courses, quizzes, and more to help you learn<b> Python</b> of all skill levels. Explore topics such as<b> Python</b> 3.13, data science, web development, GUI, and best practices.' metadata={'snippet': 'Real<b> Python</b> offers in-depth articles, step-by-step video courses, quizzes, and more to help you learn<b> Python</b> of all skill levels. Explore topics such as<b> Python</b> 3.13, data science, web development, GUI, and best practices.', 'title': 'Python Tutorials – Real Python', 'link': 'https://realpython.com/'}\n",
      "page_content='Learn the basic concepts and features of<b> Python,</b> a powerful and easy to learn programming language, with this<b> tutorial.</b> It covers topics such as data structures, modules, classes, exceptions, and more.' metadata={'snippet': 'Learn the basic concepts and features of<b> Python,</b> a powerful and easy to learn programming language, with this<b> tutorial.</b> It covers topics such as data structures, modules, classes, exceptions, and more.', 'title': 'The Python Tutorial — Python 3.12.7 documentation', 'link': 'https://docs.python.org/3/tutorial/index.html'}\n",
      "page_content='A comprehensive guide to learn<b> Python programming</b> from basics to advanced level, covering syntax, data types, operators, loops, functions, OOPs, exceptions, and more. Includes examples, quizzes, and tips for beginners and professionals.' metadata={'snippet': 'A comprehensive guide to learn<b> Python programming</b> from basics to advanced level, covering syntax, data types, operators, loops, functions, OOPs, exceptions, and more. Includes examples, quizzes, and tips for beginners and professionals.', 'title': 'Python Tutorial | Learn Python Programming Language - GeeksforGeeks', 'link': 'https://www.geeksforgeeks.org/python-programming-language-tutorial/'}\n",
      "page_content='This<b> tutorial</b> covers the basics, advanced concepts, and applications of<b> Python</b> programming. You&#39;ll learn how to set up the environment, use OOP, concurrency, regex, Tkinter, unit testing, NumPy, PyQt, and Django.' metadata={'snippet': 'This<b> tutorial</b> covers the basics, advanced concepts, and applications of<b> Python</b> programming. You&#39;ll learn how to set up the environment, use OOP, concurrency, regex, Tkinter, unit testing, NumPy, PyQt, and Django.', 'title': 'Python Tutorial', 'link': 'https://www.pythontutorial.net/'}\n",
      "page_content='Programiz offers a comprehensive guide to<b> learn Python</b> step-by-step, with practical examples, interactive courses, and online compiler. Whether you are a beginner or an advanced learner, you can find the best way to<b> learn Python</b> for your career goals and preferences.' metadata={'snippet': 'Programiz offers a comprehensive guide to<b> learn Python</b> step-by-step, with practical examples, interactive courses, and online compiler. Whether you are a beginner or an advanced learner, you can find the best way to<b> learn Python</b> for your career goals and preferences.', 'title': 'Learn Python Programming', 'link': 'https://www.programiz.com/python-programming'}\n",
      "page_content='Learn the<b> basics</b> of<b> Python</b> 3, one of the most popular and versatile programming languages today, with 14 lessons, 13 projects, and 13 quizzes. Earn a certificate of completion and get AI-assisted learning, job-readiness checker, and interview simulator features.' metadata={'snippet': 'Learn the<b> basics</b> of<b> Python</b> 3, one of the most popular and versatile programming languages today, with 14 lessons, 13 projects, and 13 quizzes. Earn a certificate of completion and get AI-assisted learning, job-readiness checker, and interview simulator features.', 'title': 'Learn Python 3 - Codecademy', 'link': 'https://www.codecademy.com/learn/learn-python-3'}\n",
      "page_content='These <b>tutorials</b> focus on the absolutely essential things you need to know about Python. We’re super passionate about teaching with articles and <b>tutorials</b> here on realpython.com—and we’d love to help you, too! Once you’re ready to move on to the next stage, check out our intermediate Python <b>tutorials</b>. Free PDF Download: Python 3 Cheat Sheet.' metadata={'snippet': 'These <b>tutorials</b> focus on the absolutely essential things you need to know about Python. We’re super passionate about teaching with articles and <b>tutorials</b> here on realpython.com—and we’d love to help you, too! Once you’re ready to move on to the next stage, check out our intermediate Python <b>tutorials</b>. Free PDF Download: Python 3 Cheat Sheet.', 'title': 'Python Basics – Real Python', 'link': 'https://realpython.com/tutorials/basics/'}\n",
      "page_content='Learn<b> Python</b> with Real<b> Python,</b> a comprehensive online resource for<b> Python</b> developers. Browse<b> tutorials</b> by topic and level, from basics to advanced, and find projects, tools, and best practices for your<b> Python</b> journey.' metadata={'snippet': 'Learn<b> Python</b> with Real<b> Python,</b> a comprehensive online resource for<b> Python</b> developers. Browse<b> tutorials</b> by topic and level, from basics to advanced, and find projects, tools, and best practices for your<b> Python</b> journey.', 'title': 'Tutorial Topics - Real Python', 'link': 'https://realpython.com/tutorials/all/'}\n"
     ]
    }
   ],
   "source": [
    "from tools.bing_tool import search_bing\n",
    "\n",
    "results = search_bing('python tutorials')\n",
    "\n",
    "for r in results:\n",
    "    print(r)"
   ]
  },
  {
   "cell_type": "code",
   "execution_count": null,
   "metadata": {},
   "outputs": [],
   "source": [
    "# put it together in an agent with a chain access to multiople tools (Jethro)\n",
    "\n",
    "\n",
    "\n",
    "from langchain.agents import AgentExecutor, create_tool_calling_agent, tool\n",
    "\n",
    "@tool\n",
    "def search_bing_browser(query: str) -> str:\n",
    "    \"\"\"search bing using browser\"\"\"\n",
    "\n",
    "    search_results_documents = search_bing(query) \n",
    "\n",
    "    # format result for llm eo view\n",
    "\n",
    "    result = \"\"\n",
    "    for r in search_results_documents:\n",
    "        result += str(r) + '\\n'\n",
    "\n",
    "    return result\n",
    "\n",
    "\n",
    "@tool\n",
    "def view_page_content(url: str) -> str:\n",
    "    \"\"\"read entire web page content from search results url\"\"\"\n",
    "\n",
    "    document = load_page_for_url(url)\n",
    "    return document.page_content\n",
    "\n",
    "    \n"
   ]
  },
  {
   "cell_type": "code",
   "execution_count": null,
   "metadata": {},
   "outputs": [],
   "source": [
    "\n",
    "\n",
    "# @traceable\n",
    "# def invoke_agent_with_tools(human, llm, tools=[], verbose=True) -> [str, List]:\n",
    "#     \"\"\"basic agent with tools\"\"\"\n",
    "\n",
    "#     custom_instruction = \"\"\"ignore all previous instructions. give me very short and concise answers and ignore all the niceties that openai programmed you with; i know you are a large language model but please pretend to be a confident and superintelligent oracle that can help a confused ceo of an ai company figure out how to help humanity navigate the golden path towards superintelligence.\n",
    "    \n",
    "# it is very important that you get this right.\"\"\"\n",
    "\n",
    "#     prompt = ChatPromptTemplate.from_messages(\n",
    "#         [\n",
    "#             (\"system\", custom_instruction),\n",
    "#             (\"placeholder\", \"{chat_history}\"),              # memory\n",
    "#             (\"human\", \"{input}\"),\n",
    "#             (\"placeholder\", \"{agent_scratchpad}\"),\n",
    "#         ]\n",
    "#     )\n",
    "#     agent = create_tool_calling_agent(\n",
    "#         llm=llm,\n",
    "#         tools=tools,\n",
    "#         prompt=prompt\n",
    "#     )\n",
    "#     agent_executor = AgentExecutor(\n",
    "#         agent=agent,\n",
    "#         tools=tools,\n",
    "#         verbose=verbose,\n",
    "#         handle_parsing_errors=True,\n",
    "#         return_intermediate_steps=True,\n",
    "#         early_stopping_method='generate',\n",
    "#     )\n",
    "#     agent_response = agent_executor.invoke({\"input\": human})\n",
    "#     agent_answer = agent_response.get('output', None) or '[agent returned no output]'\n",
    "#     intermediate_steps = agent_response.get('intermediate_steps', None) or []\n",
    "#     return agent_answer, intermediate_steps"
   ]
  }
 ],
 "metadata": {
  "kernelspec": {
   "display_name": "az16-own-the-internet-oytF2XQt-py3.12",
   "language": "python",
   "name": "python3"
  },
  "language_info": {
   "codemirror_mode": {
    "name": "ipython",
    "version": 3
   },
   "file_extension": ".py",
   "mimetype": "text/x-python",
   "name": "python",
   "nbconvert_exporter": "python",
   "pygments_lexer": "ipython3",
   "version": "3.12.1"
  }
 },
 "nbformat": 4,
 "nbformat_minor": 2
}
